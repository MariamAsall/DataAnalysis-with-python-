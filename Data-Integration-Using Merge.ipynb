{
 "cells": [
  {
   "cell_type": "markdown",
   "id": "e218fe89",
   "metadata": {},
   "source": [
    "# Outline "
   ]
  },
  {
   "cell_type": "code",
   "execution_count": null,
   "id": "9c6185f7",
   "metadata": {},
   "outputs": [],
   "source": [
    "# import libraries \n",
    "# load data \n",
    "# 1- Explore data >> head, tail (columns, rows ) - shape - info - describe for each file \n",
    "# 2- Data Preprocessing >> 1- Data Cleaning >> Missing values - Nulls - Duplicates - Data Types - Incorrect Data \n",
    "#                          2- Transformation & Integration >> Merge (beside each other)(commen column)"
   ]
  },
  {
   "cell_type": "markdown",
   "id": "3ac7e8cf",
   "metadata": {},
   "source": [
    "# 1- Import Libraries"
   ]
  },
  {
   "cell_type": "code",
   "execution_count": 9,
   "id": "593e4af4",
   "metadata": {},
   "outputs": [],
   "source": [
    "import pandas as pd "
   ]
  },
  {
   "cell_type": "markdown",
   "id": "ed4f83af",
   "metadata": {},
   "source": [
    "# 2- Load Data"
   ]
  },
  {
   "cell_type": "code",
   "execution_count": 12,
   "id": "b6c47591",
   "metadata": {},
   "outputs": [],
   "source": [
    "Branches = pd.read_excel('Branches.xlsx')"
   ]
  },
  {
   "cell_type": "code",
   "execution_count": 11,
   "id": "0835cc47",
   "metadata": {},
   "outputs": [],
   "source": [
    "Orders = pd.read_excel('TransactionsSourceData1.xlsx')"
   ]
  },
  {
   "cell_type": "markdown",
   "id": "2b600a05",
   "metadata": {},
   "source": [
    "# 3- DATA Explore "
   ]
  },
  {
   "cell_type": "code",
   "execution_count": 97,
   "id": "30ba71c5",
   "metadata": {
    "scrolled": false
   },
   "outputs": [
    {
     "data": {
      "text/html": [
       "<div>\n",
       "<style scoped>\n",
       "    .dataframe tbody tr th:only-of-type {\n",
       "        vertical-align: middle;\n",
       "    }\n",
       "\n",
       "    .dataframe tbody tr th {\n",
       "        vertical-align: top;\n",
       "    }\n",
       "\n",
       "    .dataframe thead th {\n",
       "        text-align: right;\n",
       "    }\n",
       "</style>\n",
       "<table border=\"1\" class=\"dataframe\">\n",
       "  <thead>\n",
       "    <tr style=\"text-align: right;\">\n",
       "      <th></th>\n",
       "      <th>Invoice Number</th>\n",
       "      <th>Date</th>\n",
       "      <th>Product-ID</th>\n",
       "      <th>Branch_ID</th>\n",
       "      <th>Net Sales</th>\n",
       "      <th>Cost</th>\n",
       "    </tr>\n",
       "  </thead>\n",
       "  <tbody>\n",
       "    <tr>\n",
       "      <th>0</th>\n",
       "      <td>659439</td>\n",
       "      <td>2013-01-01</td>\n",
       "      <td>QU-G83911</td>\n",
       "      <td>DN</td>\n",
       "      <td>616.22</td>\n",
       "      <td>295.79</td>\n",
       "    </tr>\n",
       "    <tr>\n",
       "      <th>1</th>\n",
       "      <td>659440</td>\n",
       "      <td>2013-01-02</td>\n",
       "      <td>VE-T83553</td>\n",
       "      <td>GI</td>\n",
       "      <td>56.40</td>\n",
       "      <td>26.51</td>\n",
       "    </tr>\n",
       "    <tr>\n",
       "      <th>2</th>\n",
       "      <td>659440</td>\n",
       "      <td>2013-01-02</td>\n",
       "      <td>CA-G84812</td>\n",
       "      <td>DB</td>\n",
       "      <td>178.75</td>\n",
       "      <td>96.53</td>\n",
       "    </tr>\n",
       "    <tr>\n",
       "      <th>3</th>\n",
       "      <td>659440</td>\n",
       "      <td>2013-01-02</td>\n",
       "      <td>DA-T81656</td>\n",
       "      <td>LJ</td>\n",
       "      <td>391.52</td>\n",
       "      <td>207.51</td>\n",
       "    </tr>\n",
       "    <tr>\n",
       "      <th>4</th>\n",
       "      <td>659441</td>\n",
       "      <td>2013-01-03</td>\n",
       "      <td>QU-G83911</td>\n",
       "      <td>GI</td>\n",
       "      <td>80.24</td>\n",
       "      <td>43.33</td>\n",
       "    </tr>\n",
       "  </tbody>\n",
       "</table>\n",
       "</div>"
      ],
      "text/plain": [
       "   Invoice Number       Date Product-ID Branch_ID  Net Sales    Cost\n",
       "0          659439 2013-01-01  QU-G83911        DN     616.22  295.79\n",
       "1          659440 2013-01-02  VE-T83553        GI      56.40   26.51\n",
       "2          659440 2013-01-02  CA-G84812        DB     178.75   96.53\n",
       "3          659440 2013-01-02  DA-T81656        LJ     391.52  207.51\n",
       "4          659441 2013-01-03  QU-G83911        GI      80.24   43.33"
      ]
     },
     "execution_count": 97,
     "metadata": {},
     "output_type": "execute_result"
    }
   ],
   "source": [
    "Orders.head()"
   ]
  },
  {
   "cell_type": "code",
   "execution_count": 98,
   "id": "d4e84b9f",
   "metadata": {},
   "outputs": [
    {
     "data": {
      "text/html": [
       "<div>\n",
       "<style scoped>\n",
       "    .dataframe tbody tr th:only-of-type {\n",
       "        vertical-align: middle;\n",
       "    }\n",
       "\n",
       "    .dataframe tbody tr th {\n",
       "        vertical-align: top;\n",
       "    }\n",
       "\n",
       "    .dataframe thead th {\n",
       "        text-align: right;\n",
       "    }\n",
       "</style>\n",
       "<table border=\"1\" class=\"dataframe\">\n",
       "  <thead>\n",
       "    <tr style=\"text-align: right;\">\n",
       "      <th></th>\n",
       "      <th>Invoice Number</th>\n",
       "      <th>Date</th>\n",
       "      <th>Product-ID</th>\n",
       "      <th>Branch_ID</th>\n",
       "      <th>Net Sales</th>\n",
       "      <th>Cost</th>\n",
       "    </tr>\n",
       "  </thead>\n",
       "  <tbody>\n",
       "    <tr>\n",
       "      <th>1420</th>\n",
       "      <td>660138</td>\n",
       "      <td>2013-12-31</td>\n",
       "      <td>VE-T83553</td>\n",
       "      <td>DN</td>\n",
       "      <td>22.56</td>\n",
       "      <td>11.05</td>\n",
       "    </tr>\n",
       "    <tr>\n",
       "      <th>1421</th>\n",
       "      <td>660138</td>\n",
       "      <td>2013-12-31</td>\n",
       "      <td>MT-C81287</td>\n",
       "      <td>MA</td>\n",
       "      <td>102.74</td>\n",
       "      <td>48.29</td>\n",
       "    </tr>\n",
       "    <tr>\n",
       "      <th>1422</th>\n",
       "      <td>660138</td>\n",
       "      <td>2013-12-31</td>\n",
       "      <td>CA-G84812</td>\n",
       "      <td>NaN</td>\n",
       "      <td>338.58</td>\n",
       "      <td>176.06</td>\n",
       "    </tr>\n",
       "    <tr>\n",
       "      <th>1423</th>\n",
       "      <td>660138</td>\n",
       "      <td>2013-12-31</td>\n",
       "      <td>VE-T83553</td>\n",
       "      <td>NaN</td>\n",
       "      <td>22.56</td>\n",
       "      <td>11.05</td>\n",
       "    </tr>\n",
       "    <tr>\n",
       "      <th>1424</th>\n",
       "      <td>660138</td>\n",
       "      <td>2013-12-31</td>\n",
       "      <td>MT-C81287</td>\n",
       "      <td>NaN</td>\n",
       "      <td>102.74</td>\n",
       "      <td>48.29</td>\n",
       "    </tr>\n",
       "  </tbody>\n",
       "</table>\n",
       "</div>"
      ],
      "text/plain": [
       "      Invoice Number       Date Product-ID Branch_ID  Net Sales    Cost\n",
       "1420          660138 2013-12-31  VE-T83553        DN      22.56   11.05\n",
       "1421          660138 2013-12-31  MT-C81287        MA     102.74   48.29\n",
       "1422          660138 2013-12-31  CA-G84812       NaN     338.58  176.06\n",
       "1423          660138 2013-12-31  VE-T83553       NaN      22.56   11.05\n",
       "1424          660138 2013-12-31  MT-C81287       NaN     102.74   48.29"
      ]
     },
     "execution_count": 98,
     "metadata": {},
     "output_type": "execute_result"
    }
   ],
   "source": [
    "Orders.tail()"
   ]
  },
  {
   "cell_type": "code",
   "execution_count": 14,
   "id": "1d8d6bd3",
   "metadata": {},
   "outputs": [
    {
     "name": "stdout",
     "output_type": "stream",
     "text": [
      "<class 'pandas.core.frame.DataFrame'>\n",
      "RangeIndex: 1425 entries, 0 to 1424\n",
      "Data columns (total 6 columns):\n",
      " #   Column          Non-Null Count  Dtype         \n",
      "---  ------          --------------  -----         \n",
      " 0   Invoice Number  1425 non-null   int64         \n",
      " 1   Date            1425 non-null   datetime64[ns]\n",
      " 2   Product-ID      1423 non-null   object        \n",
      " 3   Branch ID       1422 non-null   object        \n",
      " 4   Net Sales       1425 non-null   float64       \n",
      " 5   Cost            1425 non-null   float64       \n",
      "dtypes: datetime64[ns](1), float64(2), int64(1), object(2)\n",
      "memory usage: 66.9+ KB\n"
     ]
    }
   ],
   "source": [
    "Orders.info()"
   ]
  },
  {
   "cell_type": "code",
   "execution_count": 16,
   "id": "ca8912cb",
   "metadata": {},
   "outputs": [
    {
     "data": {
      "text/plain": [
       "(1425, 6)"
      ]
     },
     "execution_count": 16,
     "metadata": {},
     "output_type": "execute_result"
    }
   ],
   "source": [
    "Orders.shape"
   ]
  },
  {
   "cell_type": "code",
   "execution_count": 15,
   "id": "a84c0aaf",
   "metadata": {},
   "outputs": [
    {
     "data": {
      "text/plain": [
       "<bound method NDFrame.describe of       Invoice Number       Date Product-ID Branch ID  Net Sales    Cost\n",
       "0             659439 2013-01-01  QU-G83911        DN     616.22  295.79\n",
       "1             659440 2013-01-02  VE-T83553        GI      56.40   26.51\n",
       "2             659440 2013-01-02  CA-G84812        DB     178.75   96.53\n",
       "3             659440 2013-01-02  DA-T81656        LJ     391.52  207.51\n",
       "4             659441 2013-01-03  QU-G83911        GI      80.24   43.33\n",
       "...              ...        ...        ...       ...        ...     ...\n",
       "1420          660138 2013-12-31  VE-T83553        DN      22.56   11.05\n",
       "1421          660138 2013-12-31  MT-C81287        MA     102.74   48.29\n",
       "1422          660138 2013-12-31  CA-G84812       NaN     338.58  176.06\n",
       "1423          660138 2013-12-31  VE-T83553       NaN      22.56   11.05\n",
       "1424          660138 2013-12-31  MT-C81287       NaN     102.74   48.29\n",
       "\n",
       "[1425 rows x 6 columns]>"
      ]
     },
     "execution_count": 15,
     "metadata": {},
     "output_type": "execute_result"
    }
   ],
   "source": [
    "Orders.describe"
   ]
  },
  {
   "cell_type": "code",
   "execution_count": 17,
   "id": "6e5f239d",
   "metadata": {},
   "outputs": [
    {
     "data": {
      "text/html": [
       "<div>\n",
       "<style scoped>\n",
       "    .dataframe tbody tr th:only-of-type {\n",
       "        vertical-align: middle;\n",
       "    }\n",
       "\n",
       "    .dataframe tbody tr th {\n",
       "        vertical-align: top;\n",
       "    }\n",
       "\n",
       "    .dataframe thead th {\n",
       "        text-align: right;\n",
       "    }\n",
       "</style>\n",
       "<table border=\"1\" class=\"dataframe\">\n",
       "  <thead>\n",
       "    <tr style=\"text-align: right;\">\n",
       "      <th></th>\n",
       "      <th>Branch_ID</th>\n",
       "      <th>Branch_Name</th>\n",
       "    </tr>\n",
       "  </thead>\n",
       "  <tbody>\n",
       "    <tr>\n",
       "      <th>0</th>\n",
       "      <td>BX</td>\n",
       "      <td>aws</td>\n",
       "    </tr>\n",
       "    <tr>\n",
       "      <th>1</th>\n",
       "      <td>DB</td>\n",
       "      <td>zillow</td>\n",
       "    </tr>\n",
       "    <tr>\n",
       "      <th>2</th>\n",
       "      <td>DL</td>\n",
       "      <td>eve</td>\n",
       "    </tr>\n",
       "    <tr>\n",
       "      <th>3</th>\n",
       "      <td>DN</td>\n",
       "      <td>ps</td>\n",
       "    </tr>\n",
       "    <tr>\n",
       "      <th>4</th>\n",
       "      <td>EA</td>\n",
       "      <td>aliyun</td>\n",
       "    </tr>\n",
       "  </tbody>\n",
       "</table>\n",
       "</div>"
      ],
      "text/plain": [
       "  Branch_ID Branch_Name\n",
       "0        BX        aws \n",
       "1        DB      zillow\n",
       "2        DL         eve\n",
       "3        DN          ps\n",
       "4        EA      aliyun"
      ]
     },
     "execution_count": 17,
     "metadata": {},
     "output_type": "execute_result"
    }
   ],
   "source": [
    "Branches.head()"
   ]
  },
  {
   "cell_type": "code",
   "execution_count": 19,
   "id": "8767342a",
   "metadata": {},
   "outputs": [
    {
     "data": {
      "text/html": [
       "<div>\n",
       "<style scoped>\n",
       "    .dataframe tbody tr th:only-of-type {\n",
       "        vertical-align: middle;\n",
       "    }\n",
       "\n",
       "    .dataframe tbody tr th {\n",
       "        vertical-align: top;\n",
       "    }\n",
       "\n",
       "    .dataframe thead th {\n",
       "        text-align: right;\n",
       "    }\n",
       "</style>\n",
       "<table border=\"1\" class=\"dataframe\">\n",
       "  <thead>\n",
       "    <tr style=\"text-align: right;\">\n",
       "      <th></th>\n",
       "      <th>Branch_ID</th>\n",
       "      <th>Branch_Name</th>\n",
       "    </tr>\n",
       "  </thead>\n",
       "  <tbody>\n",
       "    <tr>\n",
       "      <th>9</th>\n",
       "      <td>LD</td>\n",
       "      <td>magento</td>\n",
       "    </tr>\n",
       "    <tr>\n",
       "      <th>10</th>\n",
       "      <td>LJ</td>\n",
       "      <td>sp</td>\n",
       "    </tr>\n",
       "    <tr>\n",
       "      <th>11</th>\n",
       "      <td>MA</td>\n",
       "      <td>Maano</td>\n",
       "    </tr>\n",
       "    <tr>\n",
       "      <th>12</th>\n",
       "      <td>OM</td>\n",
       "      <td>Olix</td>\n",
       "    </tr>\n",
       "    <tr>\n",
       "      <th>13</th>\n",
       "      <td>VO</td>\n",
       "      <td>Ovie</td>\n",
       "    </tr>\n",
       "  </tbody>\n",
       "</table>\n",
       "</div>"
      ],
      "text/plain": [
       "   Branch_ID Branch_Name\n",
       "9         LD     magento\n",
       "10        LJ          sp\n",
       "11        MA       Maano\n",
       "12        OM        Olix\n",
       "13        VO        Ovie"
      ]
     },
     "execution_count": 19,
     "metadata": {},
     "output_type": "execute_result"
    }
   ],
   "source": [
    "Branches.tail()"
   ]
  },
  {
   "cell_type": "code",
   "execution_count": 20,
   "id": "576341cb",
   "metadata": {},
   "outputs": [
    {
     "name": "stdout",
     "output_type": "stream",
     "text": [
      "<class 'pandas.core.frame.DataFrame'>\n",
      "RangeIndex: 14 entries, 0 to 13\n",
      "Data columns (total 2 columns):\n",
      " #   Column       Non-Null Count  Dtype \n",
      "---  ------       --------------  ----- \n",
      " 0   Branch_ID    14 non-null     object\n",
      " 1   Branch_Name  14 non-null     object\n",
      "dtypes: object(2)\n",
      "memory usage: 356.0+ bytes\n"
     ]
    }
   ],
   "source": [
    "Branches.info()"
   ]
  },
  {
   "cell_type": "code",
   "execution_count": 21,
   "id": "1158a47d",
   "metadata": {},
   "outputs": [
    {
     "data": {
      "text/plain": [
       "<bound method NDFrame.describe of    Branch_ID Branch_Name\n",
       "0         BX        aws \n",
       "1         DB      zillow\n",
       "2         DL         eve\n",
       "3         DN          ps\n",
       "4         EA      aliyun\n",
       "5         FR         get\n",
       "6         GI      region\n",
       "7         HU     alibaba\n",
       "8         JG      europa\n",
       "9         LD     magento\n",
       "10        LJ          sp\n",
       "11        MA       Maano\n",
       "12        OM        Olix\n",
       "13        VO        Ovie>"
      ]
     },
     "execution_count": 21,
     "metadata": {},
     "output_type": "execute_result"
    }
   ],
   "source": [
    "Branches.describe"
   ]
  },
  {
   "cell_type": "code",
   "execution_count": 22,
   "id": "fa44bb46",
   "metadata": {},
   "outputs": [
    {
     "data": {
      "text/plain": [
       "(14, 2)"
      ]
     },
     "execution_count": 22,
     "metadata": {},
     "output_type": "execute_result"
    }
   ],
   "source": [
    "Branches.shape"
   ]
  },
  {
   "cell_type": "code",
   "execution_count": 24,
   "id": "064d01dc",
   "metadata": {
    "scrolled": true
   },
   "outputs": [
    {
     "data": {
      "text/plain": [
       "14"
      ]
     },
     "execution_count": 24,
     "metadata": {},
     "output_type": "execute_result"
    }
   ],
   "source": [
    "Branches.Branch_ID.count() #COUNT OF BRANCHES "
   ]
  },
  {
   "cell_type": "markdown",
   "id": "35d945e3",
   "metadata": {},
   "source": [
    "# 4- Transformation & Integration >>  MERGE "
   ]
  },
  {
   "cell_type": "code",
   "execution_count": 28,
   "id": "084a4819",
   "metadata": {},
   "outputs": [
    {
     "data": {
      "text/html": [
       "<div>\n",
       "<style scoped>\n",
       "    .dataframe tbody tr th:only-of-type {\n",
       "        vertical-align: middle;\n",
       "    }\n",
       "\n",
       "    .dataframe tbody tr th {\n",
       "        vertical-align: top;\n",
       "    }\n",
       "\n",
       "    .dataframe thead th {\n",
       "        text-align: right;\n",
       "    }\n",
       "</style>\n",
       "<table border=\"1\" class=\"dataframe\">\n",
       "  <thead>\n",
       "    <tr style=\"text-align: right;\">\n",
       "      <th></th>\n",
       "      <th>Invoice Number</th>\n",
       "      <th>Date</th>\n",
       "      <th>Product-ID</th>\n",
       "      <th>Branch_ID</th>\n",
       "      <th>Net Sales</th>\n",
       "      <th>Cost</th>\n",
       "    </tr>\n",
       "  </thead>\n",
       "  <tbody>\n",
       "    <tr>\n",
       "      <th>0</th>\n",
       "      <td>659439</td>\n",
       "      <td>2013-01-01</td>\n",
       "      <td>QU-G83911</td>\n",
       "      <td>DN</td>\n",
       "      <td>616.22</td>\n",
       "      <td>295.79</td>\n",
       "    </tr>\n",
       "    <tr>\n",
       "      <th>1</th>\n",
       "      <td>659440</td>\n",
       "      <td>2013-01-02</td>\n",
       "      <td>VE-T83553</td>\n",
       "      <td>GI</td>\n",
       "      <td>56.40</td>\n",
       "      <td>26.51</td>\n",
       "    </tr>\n",
       "    <tr>\n",
       "      <th>2</th>\n",
       "      <td>659440</td>\n",
       "      <td>2013-01-02</td>\n",
       "      <td>CA-G84812</td>\n",
       "      <td>DB</td>\n",
       "      <td>178.75</td>\n",
       "      <td>96.53</td>\n",
       "    </tr>\n",
       "    <tr>\n",
       "      <th>3</th>\n",
       "      <td>659440</td>\n",
       "      <td>2013-01-02</td>\n",
       "      <td>DA-T81656</td>\n",
       "      <td>LJ</td>\n",
       "      <td>391.52</td>\n",
       "      <td>207.51</td>\n",
       "    </tr>\n",
       "    <tr>\n",
       "      <th>4</th>\n",
       "      <td>659441</td>\n",
       "      <td>2013-01-03</td>\n",
       "      <td>QU-G83911</td>\n",
       "      <td>GI</td>\n",
       "      <td>80.24</td>\n",
       "      <td>43.33</td>\n",
       "    </tr>\n",
       "    <tr>\n",
       "      <th>...</th>\n",
       "      <td>...</td>\n",
       "      <td>...</td>\n",
       "      <td>...</td>\n",
       "      <td>...</td>\n",
       "      <td>...</td>\n",
       "      <td>...</td>\n",
       "    </tr>\n",
       "    <tr>\n",
       "      <th>1420</th>\n",
       "      <td>660138</td>\n",
       "      <td>2013-12-31</td>\n",
       "      <td>VE-T83553</td>\n",
       "      <td>DN</td>\n",
       "      <td>22.56</td>\n",
       "      <td>11.05</td>\n",
       "    </tr>\n",
       "    <tr>\n",
       "      <th>1421</th>\n",
       "      <td>660138</td>\n",
       "      <td>2013-12-31</td>\n",
       "      <td>MT-C81287</td>\n",
       "      <td>MA</td>\n",
       "      <td>102.74</td>\n",
       "      <td>48.29</td>\n",
       "    </tr>\n",
       "    <tr>\n",
       "      <th>1422</th>\n",
       "      <td>660138</td>\n",
       "      <td>2013-12-31</td>\n",
       "      <td>CA-G84812</td>\n",
       "      <td>NaN</td>\n",
       "      <td>338.58</td>\n",
       "      <td>176.06</td>\n",
       "    </tr>\n",
       "    <tr>\n",
       "      <th>1423</th>\n",
       "      <td>660138</td>\n",
       "      <td>2013-12-31</td>\n",
       "      <td>VE-T83553</td>\n",
       "      <td>NaN</td>\n",
       "      <td>22.56</td>\n",
       "      <td>11.05</td>\n",
       "    </tr>\n",
       "    <tr>\n",
       "      <th>1424</th>\n",
       "      <td>660138</td>\n",
       "      <td>2013-12-31</td>\n",
       "      <td>MT-C81287</td>\n",
       "      <td>NaN</td>\n",
       "      <td>102.74</td>\n",
       "      <td>48.29</td>\n",
       "    </tr>\n",
       "  </tbody>\n",
       "</table>\n",
       "<p>1425 rows × 6 columns</p>\n",
       "</div>"
      ],
      "text/plain": [
       "      Invoice Number       Date Product-ID Branch_ID  Net Sales    Cost\n",
       "0             659439 2013-01-01  QU-G83911        DN     616.22  295.79\n",
       "1             659440 2013-01-02  VE-T83553        GI      56.40   26.51\n",
       "2             659440 2013-01-02  CA-G84812        DB     178.75   96.53\n",
       "3             659440 2013-01-02  DA-T81656        LJ     391.52  207.51\n",
       "4             659441 2013-01-03  QU-G83911        GI      80.24   43.33\n",
       "...              ...        ...        ...       ...        ...     ...\n",
       "1420          660138 2013-12-31  VE-T83553        DN      22.56   11.05\n",
       "1421          660138 2013-12-31  MT-C81287        MA     102.74   48.29\n",
       "1422          660138 2013-12-31  CA-G84812       NaN     338.58  176.06\n",
       "1423          660138 2013-12-31  VE-T83553       NaN      22.56   11.05\n",
       "1424          660138 2013-12-31  MT-C81287       NaN     102.74   48.29\n",
       "\n",
       "[1425 rows x 6 columns]"
      ]
     },
     "execution_count": 28,
     "metadata": {},
     "output_type": "execute_result"
    }
   ],
   "source": [
    "Orders = Orders.rename(columns = {'Branch ID' : 'Branch_ID'})\n",
    "Orders"
   ]
  },
  {
   "cell_type": "code",
   "execution_count": 30,
   "id": "cc3d35d3",
   "metadata": {},
   "outputs": [
    {
     "data": {
      "text/html": [
       "<div>\n",
       "<style scoped>\n",
       "    .dataframe tbody tr th:only-of-type {\n",
       "        vertical-align: middle;\n",
       "    }\n",
       "\n",
       "    .dataframe tbody tr th {\n",
       "        vertical-align: top;\n",
       "    }\n",
       "\n",
       "    .dataframe thead th {\n",
       "        text-align: right;\n",
       "    }\n",
       "</style>\n",
       "<table border=\"1\" class=\"dataframe\">\n",
       "  <thead>\n",
       "    <tr style=\"text-align: right;\">\n",
       "      <th></th>\n",
       "      <th>Invoice Number</th>\n",
       "      <th>Date</th>\n",
       "      <th>Product-ID</th>\n",
       "      <th>Branch_ID</th>\n",
       "      <th>Net Sales</th>\n",
       "      <th>Cost</th>\n",
       "      <th>Branch_Name</th>\n",
       "    </tr>\n",
       "  </thead>\n",
       "  <tbody>\n",
       "    <tr>\n",
       "      <th>0</th>\n",
       "      <td>659439</td>\n",
       "      <td>2013-01-01</td>\n",
       "      <td>QU-G83911</td>\n",
       "      <td>DN</td>\n",
       "      <td>616.22</td>\n",
       "      <td>295.79</td>\n",
       "      <td>ps</td>\n",
       "    </tr>\n",
       "    <tr>\n",
       "      <th>1</th>\n",
       "      <td>659443</td>\n",
       "      <td>2013-01-05</td>\n",
       "      <td>QU-G83911</td>\n",
       "      <td>DN</td>\n",
       "      <td>648.00</td>\n",
       "      <td>336.96</td>\n",
       "      <td>ps</td>\n",
       "    </tr>\n",
       "    <tr>\n",
       "      <th>2</th>\n",
       "      <td>659446</td>\n",
       "      <td>2013-01-05</td>\n",
       "      <td>YA-C83103</td>\n",
       "      <td>DN</td>\n",
       "      <td>243.40</td>\n",
       "      <td>121.70</td>\n",
       "      <td>ps</td>\n",
       "    </tr>\n",
       "    <tr>\n",
       "      <th>3</th>\n",
       "      <td>659446</td>\n",
       "      <td>2013-01-05</td>\n",
       "      <td>SU-G81548</td>\n",
       "      <td>DN</td>\n",
       "      <td>529.00</td>\n",
       "      <td>285.66</td>\n",
       "      <td>ps</td>\n",
       "    </tr>\n",
       "    <tr>\n",
       "      <th>4</th>\n",
       "      <td>659469</td>\n",
       "      <td>2013-01-23</td>\n",
       "      <td>CR-C83971</td>\n",
       "      <td>DN</td>\n",
       "      <td>385.00</td>\n",
       "      <td>188.65</td>\n",
       "      <td>ps</td>\n",
       "    </tr>\n",
       "    <tr>\n",
       "      <th>...</th>\n",
       "      <td>...</td>\n",
       "      <td>...</td>\n",
       "      <td>...</td>\n",
       "      <td>...</td>\n",
       "      <td>...</td>\n",
       "      <td>...</td>\n",
       "      <td>...</td>\n",
       "    </tr>\n",
       "    <tr>\n",
       "      <th>1417</th>\n",
       "      <td>660122</td>\n",
       "      <td>2013-12-25</td>\n",
       "      <td>QU-G83911</td>\n",
       "      <td>LD</td>\n",
       "      <td>501.50</td>\n",
       "      <td>260.78</td>\n",
       "      <td>magento</td>\n",
       "    </tr>\n",
       "    <tr>\n",
       "      <th>1418</th>\n",
       "      <td>660126</td>\n",
       "      <td>2013-12-26</td>\n",
       "      <td>BE-G88383</td>\n",
       "      <td>LD</td>\n",
       "      <td>188.89</td>\n",
       "      <td>94.45</td>\n",
       "      <td>magento</td>\n",
       "    </tr>\n",
       "    <tr>\n",
       "      <th>1419</th>\n",
       "      <td>660127</td>\n",
       "      <td>2013-12-26</td>\n",
       "      <td>YA-C83103</td>\n",
       "      <td>LD</td>\n",
       "      <td>279.91</td>\n",
       "      <td>131.56</td>\n",
       "      <td>magento</td>\n",
       "    </tr>\n",
       "    <tr>\n",
       "      <th>1420</th>\n",
       "      <td>660128</td>\n",
       "      <td>2013-12-27</td>\n",
       "      <td>BE-G88383</td>\n",
       "      <td>LD</td>\n",
       "      <td>375.00</td>\n",
       "      <td>195.00</td>\n",
       "      <td>magento</td>\n",
       "    </tr>\n",
       "    <tr>\n",
       "      <th>1421</th>\n",
       "      <td>660131</td>\n",
       "      <td>2013-12-30</td>\n",
       "      <td>YA-C83103</td>\n",
       "      <td>LD</td>\n",
       "      <td>38.00</td>\n",
       "      <td>17.86</td>\n",
       "      <td>magento</td>\n",
       "    </tr>\n",
       "  </tbody>\n",
       "</table>\n",
       "<p>1422 rows × 7 columns</p>\n",
       "</div>"
      ],
      "text/plain": [
       "      Invoice Number       Date Product-ID Branch_ID  Net Sales    Cost  \\\n",
       "0             659439 2013-01-01  QU-G83911        DN     616.22  295.79   \n",
       "1             659443 2013-01-05  QU-G83911        DN     648.00  336.96   \n",
       "2             659446 2013-01-05  YA-C83103        DN     243.40  121.70   \n",
       "3             659446 2013-01-05  SU-G81548        DN     529.00  285.66   \n",
       "4             659469 2013-01-23  CR-C83971        DN     385.00  188.65   \n",
       "...              ...        ...        ...       ...        ...     ...   \n",
       "1417          660122 2013-12-25  QU-G83911        LD     501.50  260.78   \n",
       "1418          660126 2013-12-26  BE-G88383        LD     188.89   94.45   \n",
       "1419          660127 2013-12-26  YA-C83103        LD     279.91  131.56   \n",
       "1420          660128 2013-12-27  BE-G88383        LD     375.00  195.00   \n",
       "1421          660131 2013-12-30  YA-C83103        LD      38.00   17.86   \n",
       "\n",
       "     Branch_Name  \n",
       "0             ps  \n",
       "1             ps  \n",
       "2             ps  \n",
       "3             ps  \n",
       "4             ps  \n",
       "...          ...  \n",
       "1417     magento  \n",
       "1418     magento  \n",
       "1419     magento  \n",
       "1420     magento  \n",
       "1421     magento  \n",
       "\n",
       "[1422 rows x 7 columns]"
      ]
     },
     "execution_count": 30,
     "metadata": {},
     "output_type": "execute_result"
    }
   ],
   "source": [
    "# df1.merge(df2, on = 'common_column', how = \"inner, left, right, full\")\n",
    "# defult >> inner join \n",
    "\n",
    "df = Orders.merge(Branches, on = 'Branch_ID') # inner \n",
    "df"
   ]
  },
  {
   "cell_type": "code",
   "execution_count": 33,
   "id": "d31cee89",
   "metadata": {},
   "outputs": [
    {
     "data": {
      "text/html": [
       "<div>\n",
       "<style scoped>\n",
       "    .dataframe tbody tr th:only-of-type {\n",
       "        vertical-align: middle;\n",
       "    }\n",
       "\n",
       "    .dataframe tbody tr th {\n",
       "        vertical-align: top;\n",
       "    }\n",
       "\n",
       "    .dataframe thead th {\n",
       "        text-align: right;\n",
       "    }\n",
       "</style>\n",
       "<table border=\"1\" class=\"dataframe\">\n",
       "  <thead>\n",
       "    <tr style=\"text-align: right;\">\n",
       "      <th></th>\n",
       "      <th>Invoice Number</th>\n",
       "      <th>Date</th>\n",
       "      <th>Product-ID</th>\n",
       "      <th>Branch_ID</th>\n",
       "      <th>Net Sales</th>\n",
       "      <th>Cost</th>\n",
       "      <th>Branch_Name</th>\n",
       "    </tr>\n",
       "  </thead>\n",
       "  <tbody>\n",
       "    <tr>\n",
       "      <th>0</th>\n",
       "      <td>659439</td>\n",
       "      <td>2013-01-01</td>\n",
       "      <td>QU-G83911</td>\n",
       "      <td>DN</td>\n",
       "      <td>616.22</td>\n",
       "      <td>295.79</td>\n",
       "      <td>ps</td>\n",
       "    </tr>\n",
       "    <tr>\n",
       "      <th>1</th>\n",
       "      <td>659440</td>\n",
       "      <td>2013-01-02</td>\n",
       "      <td>VE-T83553</td>\n",
       "      <td>GI</td>\n",
       "      <td>56.40</td>\n",
       "      <td>26.51</td>\n",
       "      <td>region</td>\n",
       "    </tr>\n",
       "    <tr>\n",
       "      <th>2</th>\n",
       "      <td>659440</td>\n",
       "      <td>2013-01-02</td>\n",
       "      <td>CA-G84812</td>\n",
       "      <td>DB</td>\n",
       "      <td>178.75</td>\n",
       "      <td>96.53</td>\n",
       "      <td>zillow</td>\n",
       "    </tr>\n",
       "    <tr>\n",
       "      <th>3</th>\n",
       "      <td>659440</td>\n",
       "      <td>2013-01-02</td>\n",
       "      <td>DA-T81656</td>\n",
       "      <td>LJ</td>\n",
       "      <td>391.52</td>\n",
       "      <td>207.51</td>\n",
       "      <td>sp</td>\n",
       "    </tr>\n",
       "    <tr>\n",
       "      <th>4</th>\n",
       "      <td>659441</td>\n",
       "      <td>2013-01-03</td>\n",
       "      <td>QU-G83911</td>\n",
       "      <td>GI</td>\n",
       "      <td>80.24</td>\n",
       "      <td>43.33</td>\n",
       "      <td>region</td>\n",
       "    </tr>\n",
       "    <tr>\n",
       "      <th>...</th>\n",
       "      <td>...</td>\n",
       "      <td>...</td>\n",
       "      <td>...</td>\n",
       "      <td>...</td>\n",
       "      <td>...</td>\n",
       "      <td>...</td>\n",
       "      <td>...</td>\n",
       "    </tr>\n",
       "    <tr>\n",
       "      <th>1420</th>\n",
       "      <td>660138</td>\n",
       "      <td>2013-12-31</td>\n",
       "      <td>VE-T83553</td>\n",
       "      <td>DN</td>\n",
       "      <td>22.56</td>\n",
       "      <td>11.05</td>\n",
       "      <td>ps</td>\n",
       "    </tr>\n",
       "    <tr>\n",
       "      <th>1421</th>\n",
       "      <td>660138</td>\n",
       "      <td>2013-12-31</td>\n",
       "      <td>MT-C81287</td>\n",
       "      <td>MA</td>\n",
       "      <td>102.74</td>\n",
       "      <td>48.29</td>\n",
       "      <td>Maano</td>\n",
       "    </tr>\n",
       "    <tr>\n",
       "      <th>1422</th>\n",
       "      <td>660138</td>\n",
       "      <td>2013-12-31</td>\n",
       "      <td>CA-G84812</td>\n",
       "      <td>NaN</td>\n",
       "      <td>338.58</td>\n",
       "      <td>176.06</td>\n",
       "      <td>NaN</td>\n",
       "    </tr>\n",
       "    <tr>\n",
       "      <th>1423</th>\n",
       "      <td>660138</td>\n",
       "      <td>2013-12-31</td>\n",
       "      <td>VE-T83553</td>\n",
       "      <td>NaN</td>\n",
       "      <td>22.56</td>\n",
       "      <td>11.05</td>\n",
       "      <td>NaN</td>\n",
       "    </tr>\n",
       "    <tr>\n",
       "      <th>1424</th>\n",
       "      <td>660138</td>\n",
       "      <td>2013-12-31</td>\n",
       "      <td>MT-C81287</td>\n",
       "      <td>NaN</td>\n",
       "      <td>102.74</td>\n",
       "      <td>48.29</td>\n",
       "      <td>NaN</td>\n",
       "    </tr>\n",
       "  </tbody>\n",
       "</table>\n",
       "<p>1425 rows × 7 columns</p>\n",
       "</div>"
      ],
      "text/plain": [
       "      Invoice Number       Date Product-ID Branch_ID  Net Sales    Cost  \\\n",
       "0             659439 2013-01-01  QU-G83911        DN     616.22  295.79   \n",
       "1             659440 2013-01-02  VE-T83553        GI      56.40   26.51   \n",
       "2             659440 2013-01-02  CA-G84812        DB     178.75   96.53   \n",
       "3             659440 2013-01-02  DA-T81656        LJ     391.52  207.51   \n",
       "4             659441 2013-01-03  QU-G83911        GI      80.24   43.33   \n",
       "...              ...        ...        ...       ...        ...     ...   \n",
       "1420          660138 2013-12-31  VE-T83553        DN      22.56   11.05   \n",
       "1421          660138 2013-12-31  MT-C81287        MA     102.74   48.29   \n",
       "1422          660138 2013-12-31  CA-G84812       NaN     338.58  176.06   \n",
       "1423          660138 2013-12-31  VE-T83553       NaN      22.56   11.05   \n",
       "1424          660138 2013-12-31  MT-C81287       NaN     102.74   48.29   \n",
       "\n",
       "     Branch_Name  \n",
       "0             ps  \n",
       "1         region  \n",
       "2         zillow  \n",
       "3             sp  \n",
       "4         region  \n",
       "...          ...  \n",
       "1420          ps  \n",
       "1421       Maano  \n",
       "1422         NaN  \n",
       "1423         NaN  \n",
       "1424         NaN  \n",
       "\n",
       "[1425 rows x 7 columns]"
      ]
     },
     "execution_count": 33,
     "metadata": {},
     "output_type": "execute_result"
    }
   ],
   "source": [
    "df = Orders.merge(Branches, on = 'Branch_ID', how = \"left\") # inner \n",
    "df\n",
    "# orders >> 1425 , branches >> 14 , inner >> there are 3 null in branches مش قصادهم حاجه "
   ]
  },
  {
   "cell_type": "code",
   "execution_count": 35,
   "id": "56938ca5",
   "metadata": {},
   "outputs": [
    {
     "data": {
      "text/html": [
       "<div>\n",
       "<style scoped>\n",
       "    .dataframe tbody tr th:only-of-type {\n",
       "        vertical-align: middle;\n",
       "    }\n",
       "\n",
       "    .dataframe tbody tr th {\n",
       "        vertical-align: top;\n",
       "    }\n",
       "\n",
       "    .dataframe thead th {\n",
       "        text-align: right;\n",
       "    }\n",
       "</style>\n",
       "<table border=\"1\" class=\"dataframe\">\n",
       "  <thead>\n",
       "    <tr style=\"text-align: right;\">\n",
       "      <th></th>\n",
       "      <th>Invoice Number</th>\n",
       "      <th>Date</th>\n",
       "      <th>Product-ID</th>\n",
       "      <th>Branch_ID</th>\n",
       "      <th>Net Sales</th>\n",
       "      <th>Cost</th>\n",
       "      <th>Branch_Name</th>\n",
       "    </tr>\n",
       "  </thead>\n",
       "  <tbody>\n",
       "    <tr>\n",
       "      <th>0</th>\n",
       "      <td>659442</td>\n",
       "      <td>2013-01-04</td>\n",
       "      <td>QU-G83911</td>\n",
       "      <td>BX</td>\n",
       "      <td>396.00</td>\n",
       "      <td>209.88</td>\n",
       "      <td>aws</td>\n",
       "    </tr>\n",
       "    <tr>\n",
       "      <th>1</th>\n",
       "      <td>659443</td>\n",
       "      <td>2013-01-05</td>\n",
       "      <td>BE-G88383</td>\n",
       "      <td>BX</td>\n",
       "      <td>251.55</td>\n",
       "      <td>125.78</td>\n",
       "      <td>aws</td>\n",
       "    </tr>\n",
       "    <tr>\n",
       "      <th>2</th>\n",
       "      <td>659446</td>\n",
       "      <td>2013-01-05</td>\n",
       "      <td>QU-G83911</td>\n",
       "      <td>BX</td>\n",
       "      <td>288.00</td>\n",
       "      <td>135.36</td>\n",
       "      <td>aws</td>\n",
       "    </tr>\n",
       "    <tr>\n",
       "      <th>3</th>\n",
       "      <td>659446</td>\n",
       "      <td>2013-01-05</td>\n",
       "      <td>QU-G83911</td>\n",
       "      <td>BX</td>\n",
       "      <td>672.24</td>\n",
       "      <td>315.95</td>\n",
       "      <td>aws</td>\n",
       "    </tr>\n",
       "    <tr>\n",
       "      <th>4</th>\n",
       "      <td>659450</td>\n",
       "      <td>2013-01-08</td>\n",
       "      <td>QU-G83911</td>\n",
       "      <td>BX</td>\n",
       "      <td>481.44</td>\n",
       "      <td>255.16</td>\n",
       "      <td>aws</td>\n",
       "    </tr>\n",
       "    <tr>\n",
       "      <th>...</th>\n",
       "      <td>...</td>\n",
       "      <td>...</td>\n",
       "      <td>...</td>\n",
       "      <td>...</td>\n",
       "      <td>...</td>\n",
       "      <td>...</td>\n",
       "      <td>...</td>\n",
       "    </tr>\n",
       "    <tr>\n",
       "      <th>1417</th>\n",
       "      <td>660094</td>\n",
       "      <td>2013-12-12</td>\n",
       "      <td>VE-T83553</td>\n",
       "      <td>VO</td>\n",
       "      <td>173.42</td>\n",
       "      <td>84.98</td>\n",
       "      <td>Ovie</td>\n",
       "    </tr>\n",
       "    <tr>\n",
       "      <th>1418</th>\n",
       "      <td>660111</td>\n",
       "      <td>2013-12-18</td>\n",
       "      <td>CA-G84812</td>\n",
       "      <td>VO</td>\n",
       "      <td>343.75</td>\n",
       "      <td>185.63</td>\n",
       "      <td>Ovie</td>\n",
       "    </tr>\n",
       "    <tr>\n",
       "      <th>1419</th>\n",
       "      <td>660114</td>\n",
       "      <td>2013-12-20</td>\n",
       "      <td>YA-C83103</td>\n",
       "      <td>VO</td>\n",
       "      <td>85.19</td>\n",
       "      <td>44.30</td>\n",
       "      <td>Ovie</td>\n",
       "    </tr>\n",
       "    <tr>\n",
       "      <th>1420</th>\n",
       "      <td>660123</td>\n",
       "      <td>2013-12-25</td>\n",
       "      <td>FU-T88744</td>\n",
       "      <td>VO</td>\n",
       "      <td>30.50</td>\n",
       "      <td>16.47</td>\n",
       "      <td>Ovie</td>\n",
       "    </tr>\n",
       "    <tr>\n",
       "      <th>1421</th>\n",
       "      <td>660137</td>\n",
       "      <td>2013-12-31</td>\n",
       "      <td>NaN</td>\n",
       "      <td>VO</td>\n",
       "      <td>159.83</td>\n",
       "      <td>84.71</td>\n",
       "      <td>Ovie</td>\n",
       "    </tr>\n",
       "  </tbody>\n",
       "</table>\n",
       "<p>1422 rows × 7 columns</p>\n",
       "</div>"
      ],
      "text/plain": [
       "      Invoice Number       Date Product-ID Branch_ID  Net Sales    Cost  \\\n",
       "0             659442 2013-01-04  QU-G83911        BX     396.00  209.88   \n",
       "1             659443 2013-01-05  BE-G88383        BX     251.55  125.78   \n",
       "2             659446 2013-01-05  QU-G83911        BX     288.00  135.36   \n",
       "3             659446 2013-01-05  QU-G83911        BX     672.24  315.95   \n",
       "4             659450 2013-01-08  QU-G83911        BX     481.44  255.16   \n",
       "...              ...        ...        ...       ...        ...     ...   \n",
       "1417          660094 2013-12-12  VE-T83553        VO     173.42   84.98   \n",
       "1418          660111 2013-12-18  CA-G84812        VO     343.75  185.63   \n",
       "1419          660114 2013-12-20  YA-C83103        VO      85.19   44.30   \n",
       "1420          660123 2013-12-25  FU-T88744        VO      30.50   16.47   \n",
       "1421          660137 2013-12-31        NaN        VO     159.83   84.71   \n",
       "\n",
       "     Branch_Name  \n",
       "0           aws   \n",
       "1           aws   \n",
       "2           aws   \n",
       "3           aws   \n",
       "4           aws   \n",
       "...          ...  \n",
       "1417        Ovie  \n",
       "1418        Ovie  \n",
       "1419        Ovie  \n",
       "1420        Ovie  \n",
       "1421        Ovie  \n",
       "\n",
       "[1422 rows x 7 columns]"
      ]
     },
     "execution_count": 35,
     "metadata": {},
     "output_type": "execute_result"
    }
   ],
   "source": [
    "df = Orders.merge(Branches, on = 'Branch_ID', how = \"right\") \n",
    "df"
   ]
  },
  {
   "cell_type": "code",
   "execution_count": 39,
   "id": "8a3f8d77",
   "metadata": {},
   "outputs": [
    {
     "data": {
      "text/plain": [
       "0       186.12\n",
       "1       125.77\n",
       "2       152.64\n",
       "3       356.29\n",
       "4       226.28\n",
       "         ...  \n",
       "1417     88.44\n",
       "1418    158.12\n",
       "1419     40.89\n",
       "1420     14.03\n",
       "1421     75.12\n",
       "Name: Profit, Length: 1422, dtype: float64"
      ]
     },
     "execution_count": 39,
     "metadata": {},
     "output_type": "execute_result"
    }
   ],
   "source": [
    "df['Profit'] = df['Net Sales'] - df['Cost']\n",
    "df['Profit']"
   ]
  },
  {
   "cell_type": "code",
   "execution_count": 43,
   "id": "03f7f126",
   "metadata": {},
   "outputs": [
    {
     "data": {
      "text/plain": [
       "Index(['Invoice Number', 'Date', 'Product-ID', 'Branch_ID', 'Net Sales',\n",
       "       'Cost', 'Branch_Name', 'Profit'],\n",
       "      dtype='object')"
      ]
     },
     "execution_count": 43,
     "metadata": {},
     "output_type": "execute_result"
    }
   ],
   "source": [
    "df.columns"
   ]
  },
  {
   "cell_type": "code",
   "execution_count": 44,
   "id": "6599d817",
   "metadata": {},
   "outputs": [
    {
     "data": {
      "text/plain": [
       "0       AWS \n",
       "1       AWS \n",
       "2       AWS \n",
       "3       AWS \n",
       "4       AWS \n",
       "        ... \n",
       "1417    OVIE\n",
       "1418    OVIE\n",
       "1419    OVIE\n",
       "1420    OVIE\n",
       "1421    OVIE\n",
       "Name: Branch_Name, Length: 1422, dtype: object"
      ]
     },
     "execution_count": 44,
     "metadata": {},
     "output_type": "execute_result"
    }
   ],
   "source": [
    "df['Branch_Name'].str.upper()"
   ]
  },
  {
   "cell_type": "code",
   "execution_count": 89,
   "id": "0aaf20a1",
   "metadata": {
    "scrolled": true
   },
   "outputs": [
    {
     "data": {
      "text/html": [
       "<div>\n",
       "<style scoped>\n",
       "    .dataframe tbody tr th:only-of-type {\n",
       "        vertical-align: middle;\n",
       "    }\n",
       "\n",
       "    .dataframe tbody tr th {\n",
       "        vertical-align: top;\n",
       "    }\n",
       "\n",
       "    .dataframe thead th {\n",
       "        text-align: right;\n",
       "    }\n",
       "</style>\n",
       "<table border=\"1\" class=\"dataframe\">\n",
       "  <thead>\n",
       "    <tr style=\"text-align: right;\">\n",
       "      <th></th>\n",
       "      <th>Invoice Number</th>\n",
       "      <th>Date</th>\n",
       "      <th>Product-ID</th>\n",
       "      <th>Branch_ID</th>\n",
       "      <th>Net Sales</th>\n",
       "      <th>Cost</th>\n",
       "      <th>Branch_Name</th>\n",
       "      <th>Profit</th>\n",
       "    </tr>\n",
       "  </thead>\n",
       "  <tbody>\n",
       "    <tr>\n",
       "      <th>0</th>\n",
       "      <td>659442</td>\n",
       "      <td>2013-01-04</td>\n",
       "      <td>QU-G83911</td>\n",
       "      <td>BX</td>\n",
       "      <td>396.00</td>\n",
       "      <td>209.88</td>\n",
       "      <td>Aws</td>\n",
       "      <td>186.12</td>\n",
       "    </tr>\n",
       "    <tr>\n",
       "      <th>1</th>\n",
       "      <td>659443</td>\n",
       "      <td>2013-01-05</td>\n",
       "      <td>BE-G88383</td>\n",
       "      <td>BX</td>\n",
       "      <td>251.55</td>\n",
       "      <td>125.78</td>\n",
       "      <td>Aws</td>\n",
       "      <td>125.77</td>\n",
       "    </tr>\n",
       "    <tr>\n",
       "      <th>2</th>\n",
       "      <td>659446</td>\n",
       "      <td>2013-01-05</td>\n",
       "      <td>QU-G83911</td>\n",
       "      <td>BX</td>\n",
       "      <td>288.00</td>\n",
       "      <td>135.36</td>\n",
       "      <td>Aws</td>\n",
       "      <td>152.64</td>\n",
       "    </tr>\n",
       "    <tr>\n",
       "      <th>3</th>\n",
       "      <td>659446</td>\n",
       "      <td>2013-01-05</td>\n",
       "      <td>QU-G83911</td>\n",
       "      <td>BX</td>\n",
       "      <td>672.24</td>\n",
       "      <td>315.95</td>\n",
       "      <td>Aws</td>\n",
       "      <td>356.29</td>\n",
       "    </tr>\n",
       "    <tr>\n",
       "      <th>4</th>\n",
       "      <td>659450</td>\n",
       "      <td>2013-01-08</td>\n",
       "      <td>QU-G83911</td>\n",
       "      <td>BX</td>\n",
       "      <td>481.44</td>\n",
       "      <td>255.16</td>\n",
       "      <td>Aws</td>\n",
       "      <td>226.28</td>\n",
       "    </tr>\n",
       "    <tr>\n",
       "      <th>...</th>\n",
       "      <td>...</td>\n",
       "      <td>...</td>\n",
       "      <td>...</td>\n",
       "      <td>...</td>\n",
       "      <td>...</td>\n",
       "      <td>...</td>\n",
       "      <td>...</td>\n",
       "      <td>...</td>\n",
       "    </tr>\n",
       "    <tr>\n",
       "      <th>1417</th>\n",
       "      <td>660094</td>\n",
       "      <td>2013-12-12</td>\n",
       "      <td>VE-T83553</td>\n",
       "      <td>VO</td>\n",
       "      <td>173.42</td>\n",
       "      <td>84.98</td>\n",
       "      <td>Ovie</td>\n",
       "      <td>88.44</td>\n",
       "    </tr>\n",
       "    <tr>\n",
       "      <th>1418</th>\n",
       "      <td>660111</td>\n",
       "      <td>2013-12-18</td>\n",
       "      <td>CA-G84812</td>\n",
       "      <td>VO</td>\n",
       "      <td>343.75</td>\n",
       "      <td>185.63</td>\n",
       "      <td>Ovie</td>\n",
       "      <td>158.12</td>\n",
       "    </tr>\n",
       "    <tr>\n",
       "      <th>1419</th>\n",
       "      <td>660114</td>\n",
       "      <td>2013-12-20</td>\n",
       "      <td>YA-C83103</td>\n",
       "      <td>VO</td>\n",
       "      <td>85.19</td>\n",
       "      <td>44.30</td>\n",
       "      <td>Ovie</td>\n",
       "      <td>40.89</td>\n",
       "    </tr>\n",
       "    <tr>\n",
       "      <th>1420</th>\n",
       "      <td>660123</td>\n",
       "      <td>2013-12-25</td>\n",
       "      <td>FU-T88744</td>\n",
       "      <td>VO</td>\n",
       "      <td>30.50</td>\n",
       "      <td>16.47</td>\n",
       "      <td>Ovie</td>\n",
       "      <td>14.03</td>\n",
       "    </tr>\n",
       "    <tr>\n",
       "      <th>1421</th>\n",
       "      <td>660137</td>\n",
       "      <td>2013-12-31</td>\n",
       "      <td>NaN</td>\n",
       "      <td>VO</td>\n",
       "      <td>159.83</td>\n",
       "      <td>84.71</td>\n",
       "      <td>Ovie</td>\n",
       "      <td>75.12</td>\n",
       "    </tr>\n",
       "  </tbody>\n",
       "</table>\n",
       "<p>1422 rows × 8 columns</p>\n",
       "</div>"
      ],
      "text/plain": [
       "      Invoice Number       Date Product-ID Branch_ID  Net Sales    Cost  \\\n",
       "0             659442 2013-01-04  QU-G83911        BX     396.00  209.88   \n",
       "1             659443 2013-01-05  BE-G88383        BX     251.55  125.78   \n",
       "2             659446 2013-01-05  QU-G83911        BX     288.00  135.36   \n",
       "3             659446 2013-01-05  QU-G83911        BX     672.24  315.95   \n",
       "4             659450 2013-01-08  QU-G83911        BX     481.44  255.16   \n",
       "...              ...        ...        ...       ...        ...     ...   \n",
       "1417          660094 2013-12-12  VE-T83553        VO     173.42   84.98   \n",
       "1418          660111 2013-12-18  CA-G84812        VO     343.75  185.63   \n",
       "1419          660114 2013-12-20  YA-C83103        VO      85.19   44.30   \n",
       "1420          660123 2013-12-25  FU-T88744        VO      30.50   16.47   \n",
       "1421          660137 2013-12-31        NaN        VO     159.83   84.71   \n",
       "\n",
       "     Branch_Name  Profit  \n",
       "0           Aws   186.12  \n",
       "1           Aws   125.77  \n",
       "2           Aws   152.64  \n",
       "3           Aws   356.29  \n",
       "4           Aws   226.28  \n",
       "...          ...     ...  \n",
       "1417        Ovie   88.44  \n",
       "1418        Ovie  158.12  \n",
       "1419        Ovie   40.89  \n",
       "1420        Ovie   14.03  \n",
       "1421        Ovie   75.12  \n",
       "\n",
       "[1422 rows x 8 columns]"
      ]
     },
     "execution_count": 89,
     "metadata": {},
     "output_type": "execute_result"
    }
   ],
   "source": [
    "df['Branch_Name'] = df['Branch_Name'].str.capitalize() # first letter \n",
    "df"
   ]
  },
  {
   "cell_type": "markdown",
   "id": "f99c6870",
   "metadata": {},
   "source": [
    "# 5- Analyze & Questions "
   ]
  },
  {
   "cell_type": "code",
   "execution_count": 51,
   "id": "d89a3418",
   "metadata": {},
   "outputs": [
    {
     "data": {
      "text/plain": [
       "Branch_Name\n",
       "Alibaba    12539.19\n",
       "Aliyun      8564.05\n",
       "Aws        12241.66\n",
       "Europa     10285.21\n",
       "Eve         9195.71\n",
       "Get         9589.53\n",
       "Maano      10104.11\n",
       "Magento    10569.41\n",
       "Olix       10040.07\n",
       "Ovie        8745.83\n",
       "Ps          8595.78\n",
       "Region     10513.21\n",
       "Sp          9491.59\n",
       "Zillow      8161.18\n",
       "Name: Profit, dtype: float64"
      ]
     },
     "execution_count": 51,
     "metadata": {},
     "output_type": "execute_result"
    }
   ],
   "source": [
    "# 1- Total Profit by branch \n",
    "df.groupby(['Branch_Name'])['Profit'].sum()"
   ]
  },
  {
   "cell_type": "code",
   "execution_count": 64,
   "id": "9c83601c",
   "metadata": {},
   "outputs": [
    {
     "data": {
      "text/plain": [
       "12"
      ]
     },
     "execution_count": 64,
     "metadata": {},
     "output_type": "execute_result"
    }
   ],
   "source": [
    "# 2- products \n",
    "df['Product-ID'].value_counts().count()"
   ]
  },
  {
   "cell_type": "code",
   "execution_count": 66,
   "id": "7d491c39",
   "metadata": {},
   "outputs": [
    {
     "data": {
      "text/plain": [
       "Branch_Name\n",
       "Alibaba    25827.33\n",
       "Aliyun     17967.82\n",
       "Aws        24960.02\n",
       "Europa     20907.11\n",
       "Eve        18569.18\n",
       "Get        19462.44\n",
       "Maano      20835.38\n",
       "Magento    21659.91\n",
       "Olix       20392.49\n",
       "Ovie       17985.17\n",
       "Ps         17534.95\n",
       "Region     21340.66\n",
       "Sp         19342.80\n",
       "Zillow     16627.10\n",
       "Name: Net Sales, dtype: float64"
      ]
     },
     "execution_count": 66,
     "metadata": {},
     "output_type": "execute_result"
    }
   ],
   "source": [
    "# 3- Total Net Sales by product \n",
    "df.groupby(['Branch_Name'])['Net Sales'].sum()"
   ]
  },
  {
   "cell_type": "code",
   "execution_count": 67,
   "id": "6ec20e72",
   "metadata": {},
   "outputs": [
    {
     "data": {
      "text/plain": [
       "Product-ID\n",
       "FU-T88744    230\n",
       "QU-G83911    210\n",
       "YA-C83103    207\n",
       "VE-T83553    139\n",
       "CA-G84812    134\n",
       "Name: count, dtype: int64"
      ]
     },
     "execution_count": 67,
     "metadata": {},
     "output_type": "execute_result"
    }
   ],
   "source": [
    "# 4- Top 5 products \n",
    "df['Product-ID'].value_counts().head(5)"
   ]
  },
  {
   "cell_type": "code",
   "execution_count": 75,
   "id": "cc76ece7",
   "metadata": {},
   "outputs": [
    {
     "data": {
      "text/plain": [
       "Branch_Name\n",
       "Alibaba    12539.19\n",
       "Aliyun      8564.05\n",
       "Name: Profit, dtype: float64"
      ]
     },
     "execution_count": 75,
     "metadata": {},
     "output_type": "execute_result"
    }
   ],
   "source": [
    "# 5- Top 2 branches by profit  \n",
    "df.groupby(['Branch_Name'])['Profit'].sum().head(2)"
   ]
  },
  {
   "cell_type": "code",
   "execution_count": 78,
   "id": "e9c301ae",
   "metadata": {},
   "outputs": [
    {
     "data": {
      "text/plain": [
       "Product-ID\n",
       "CR-C83971    69\n",
       "DA-T81656    68\n",
       "FA-T82068    59\n",
       "MT-C81287    47\n",
       "SU-G81548    41\n",
       "Name: count, dtype: int64"
      ]
     },
     "execution_count": 78,
     "metadata": {},
     "output_type": "execute_result"
    }
   ],
   "source": [
    "# 6 - Bottom 5 products \n",
    "df['Product-ID'].value_counts().tail(5)"
   ]
  },
  {
   "cell_type": "code",
   "execution_count": 83,
   "id": "1603d047",
   "metadata": {},
   "outputs": [
    {
     "data": {
      "text/plain": [
       "Branch_Name\n",
       "Alibaba    110\n",
       "Aliyun      97\n",
       "Aws        107\n",
       "Europa     105\n",
       "Eve         97\n",
       "Get        100\n",
       "Maano      119\n",
       "Magento    109\n",
       "Olix       106\n",
       "Ovie       101\n",
       "Ps          90\n",
       "Region      98\n",
       "Sp         102\n",
       "Zillow      81\n",
       "Name: Invoice Number, dtype: int64"
      ]
     },
     "execution_count": 83,
     "metadata": {},
     "output_type": "execute_result"
    }
   ],
   "source": [
    "# 7- orders by Branch name \n",
    "df.groupby(['Branch_Name'])['Invoice Number'].count()"
   ]
  },
  {
   "cell_type": "code",
   "execution_count": 86,
   "id": "9c6ad3fc",
   "metadata": {},
   "outputs": [
    {
     "data": {
      "text/plain": [
       "Branch_Name  Product-ID\n",
       "Alibaba      AS-C89526      7\n",
       "             BE-G88383      9\n",
       "             CA-G84812     14\n",
       "             CR-C83971      2\n",
       "             DA-T81656      6\n",
       "                           ..\n",
       "Zillow       MT-C81287      1\n",
       "             QU-G83911     15\n",
       "             SU-G81548      5\n",
       "             VE-T83553      6\n",
       "             YA-C83103     13\n",
       "Name: Invoice Number, Length: 167, dtype: int64"
      ]
     },
     "execution_count": 86,
     "metadata": {},
     "output_type": "execute_result"
    }
   ],
   "source": [
    "# 8- orders by branch and products \n",
    "df.groupby(['Branch_Name','Product-ID'])['Invoice Number'].count()"
   ]
  },
  {
   "cell_type": "code",
   "execution_count": 91,
   "id": "8393ebb1",
   "metadata": {},
   "outputs": [
    {
     "data": {
      "text/plain": [
       "700"
      ]
     },
     "execution_count": 91,
     "metadata": {},
     "output_type": "execute_result"
    }
   ],
   "source": [
    "# 9- Invoices \n",
    "df['Invoice Number'].value_counts().count()"
   ]
  },
  {
   "cell_type": "code",
   "execution_count": 96,
   "id": "76c94bf3",
   "metadata": {},
   "outputs": [
    {
     "data": {
      "text/plain": [
       "(283412.36, 199.30545710267228, 900.0, 1.22)"
      ]
     },
     "execution_count": 96,
     "metadata": {},
     "output_type": "execute_result"
    }
   ],
   "source": [
    "# 10 - Total sales , avg sales , max sales , min sales \n",
    "\n",
    "df['Net Sales'].sum(), df['Net Sales'].mean(), df['Net Sales'].max(), df['Net Sales'].min()"
   ]
  },
  {
   "cell_type": "markdown",
   "id": "184dbbe0",
   "metadata": {},
   "source": [
    "# GOOD LUCK ^_^ "
   ]
  }
 ],
 "metadata": {
  "kernelspec": {
   "display_name": "Python 3 (ipykernel)",
   "language": "python",
   "name": "python3"
  },
  "language_info": {
   "codemirror_mode": {
    "name": "ipython",
    "version": 3
   },
   "file_extension": ".py",
   "mimetype": "text/x-python",
   "name": "python",
   "nbconvert_exporter": "python",
   "pygments_lexer": "ipython3",
   "version": "3.11.5"
  }
 },
 "nbformat": 4,
 "nbformat_minor": 5
}
